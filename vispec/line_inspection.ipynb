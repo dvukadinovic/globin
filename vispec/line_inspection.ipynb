{
 "cells": [
  {
   "cell_type": "code",
   "execution_count": 1,
   "id": "1fa88437",
   "metadata": {},
   "outputs": [],
   "source": [
    "import numpy as np\n",
    "import matplotlib.pyplot as plt\n",
    "import matplotlib as mpl\n",
    "from matplotlib.widgets import CheckButtons\n",
    "import globin\n",
    "\n",
    "PSE = globin.atoms.PSE()\n",
    "\n",
    "import ipywidgets as widgets\n",
    "from IPython.display import display"
   ]
  },
  {
   "cell_type": "code",
   "execution_count": 10,
   "id": "4b0b15ef",
   "metadata": {},
   "outputs": [],
   "source": [
    "path = \"/home/dusan/Documents/globin_inversion/gris_aug18_trelles/obs/gris_20180829_003_TrellesArjona.p2.fits\"\n",
    "spectrum = globin.Observation(path, spec_type=\"hinode\")\n",
    "\n",
    "idx, idy = 10, 20\n",
    "\n",
    "_, RLK_lines = globin.atoms.read_RLK_lines(\"/home/dusan/Documents/globin_inversion/gris_aug18_trelles/lines_trelles21_LS_lande_lam_ABO\")\n",
    "\n",
    "atoms = {}\n",
    "for line in RLK_lines:\n",
    "    element = PSE.get_element_symbol(line.ion)\n",
    "    element += \"I\" if line.state==0 else \"II\"\n",
    "    if element in atoms:\n",
    "        atoms[element].append(line)\n",
    "    else:\n",
    "        atoms[element] = [line]"
   ]
  },
  {
   "cell_type": "code",
   "execution_count": 8,
   "id": "d5f9777f",
   "metadata": {},
   "outputs": [],
   "source": [
    "def callback(**flags):\n",
    "    fig, ax = plt.subplots(nrows=1, ncols=1)\n",
    "\n",
    "    ax.plot(spectrum.wavelength, spectrum.I[idx,idy])\n",
    "\n",
    "    lines = {}\n",
    "    for element in atoms:\n",
    "        if not flags[element]:\n",
    "            continue\n",
    "\n",
    "        for line in atoms[element]:\n",
    "            ax.axvline(x=line.lam0, c=\"grey\", lw=0.75)\n",
    "\n",
    "    ax.set_xlabel(\"wavelength [nm]\")\n",
    "    ax.set_ylabel(\"Normalized intensity\")\n",
    "    ax.set_xlim([spectrum.wavelength[0], spectrum.wavelength[-1]])\n",
    "    \n",
    "    fig.canvas.draw_idle()"
   ]
  },
  {
   "cell_type": "code",
   "execution_count": 11,
   "id": "3aa40083",
   "metadata": {},
   "outputs": [
    {
     "data": {
      "application/vnd.jupyter.widget-view+json": {
       "model_id": "c1433674061a4d6fafe7404567fc0c95",
       "version_major": 2,
       "version_minor": 0
      },
      "text/plain": [
       "VBox(children=(HBox(children=(Checkbox(value=True, description='FeI'), Checkbox(value=True, description='FeII'…"
      ]
     },
     "execution_count": 11,
     "metadata": {},
     "output_type": "execute_result"
    }
   ],
   "source": [
    "args = {}\n",
    "boxes = []\n",
    "for element in atoms:\n",
    "    checkbox = widgets.Checkbox(\n",
    "        value=True, \n",
    "        description=element, \n",
    "        disabled=False,\n",
    "        indent=True)\n",
    "    boxes.append(checkbox)\n",
    "    args[element] = checkbox\n",
    "_boxes = widgets.HBox(boxes)\n",
    "\n",
    "#----------\n",
    "\n",
    "out = widgets.interactive_output(callback, args)\n",
    "\n",
    "widgets.VBox([_boxes, out])"
   ]
  },
  {
   "cell_type": "code",
   "execution_count": null,
   "id": "e7ee0d8e",
   "metadata": {},
   "outputs": [],
   "source": []
  }
 ],
 "metadata": {
  "kernelspec": {
   "display_name": "Python 3 (ipykernel)",
   "language": "python",
   "name": "python3"
  },
  "language_info": {
   "codemirror_mode": {
    "name": "ipython",
    "version": 3
   },
   "file_extension": ".py",
   "mimetype": "text/x-python",
   "name": "python",
   "nbconvert_exporter": "python",
   "pygments_lexer": "ipython3",
   "version": "3.8.10"
  }
 },
 "nbformat": 4,
 "nbformat_minor": 5
}
